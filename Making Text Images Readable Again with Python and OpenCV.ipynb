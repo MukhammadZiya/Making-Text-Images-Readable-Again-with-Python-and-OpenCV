{
 "cells": [
  {
   "cell_type": "code",
   "execution_count": 28,
   "id": "abfc6652-967c-483a-a93b-eb5ed2fd065b",
   "metadata": {
    "tags": []
   },
   "outputs": [],
   "source": [
    "import cv2 as cv \n",
    "from PIL import Image \n",
    "\n",
    "img = cv.imread('BOOK.jpg')\n",
    "img= cv.cvtColor(img, cv.COLOR_RGB2GRAY)\n",
    "_, result = cv.threshold(img, 35, 255, cv.THRESH_BINARY) \n",
    "adaptive = cv.adaptiveThreshold(img, 255, cv.ADAPTIVE_THRESH_GAUSSIAN_C, cv.THRESH_BINARY, 9999, 4)\n",
    "\n",
    "cv.imshow('Image' , img) \n",
    "cv.imshow('Result', result)\n",
    "cv.imshow('Adaptive result' , adaptive)\n",
    "cv.waitKey(0)\n",
    "cv.destroyAllWindows()"
   ]
  },
  {
   "cell_type": "code",
   "execution_count": null,
   "id": "41fa4318-6c9f-41bd-8ffa-9b0b05b40bf9",
   "metadata": {},
   "outputs": [],
   "source": []
  }
 ],
 "metadata": {
  "kernelspec": {
   "display_name": "my_env",
   "language": "python",
   "name": "my_env"
  },
  "language_info": {
   "codemirror_mode": {
    "name": "ipython",
    "version": 3
   },
   "file_extension": ".py",
   "mimetype": "text/x-python",
   "name": "python",
   "nbconvert_exporter": "python",
   "pygments_lexer": "ipython3",
   "version": "3.9.18"
  }
 },
 "nbformat": 4,
 "nbformat_minor": 5
}
